{
 "cells": [
  {
   "cell_type": "code",
   "execution_count": 1,
   "id": "54badf32",
   "metadata": {},
   "outputs": [],
   "source": [
    "import numpy as np\n",
    "import pandas as pd\n",
    "import regex as re\n",
    "import nltk\n",
    "from nltk.corpus import stopwords\n",
    "from nltk.stem import SnowballStemmer\n",
    "from nltk.stem import WordNetLemmatizer"
   ]
  },
  {
   "cell_type": "code",
   "execution_count": 2,
   "id": "57039763",
   "metadata": {},
   "outputs": [],
   "source": [
    "doc_0='''<b>To sit in solemn</b> silence in a dull, dark dock,\n",
    "In a pestilential prison, with a life-long lock,\n",
    "Awaiting the sensation of a short, sharp shock,\n",
    "From a cheap and chippy chopper on a big black block!\n",
    "To sit in solemn silence in a dull, dark dock,\n",
    "In a pestilential prison, with a life-long lock,\n",
    "Awaiting the sensation of a short, sharp shock,\n",
    "From a cheap and chippy chopper on a big black block!\n",
    "A dull, dark dock, a life-long lock,\n",
    "A short, sharp shock, a big black block!\n",
    "To sit in solemn silence in a pestilential prison,\n",
    "And awaiting the sensation\n",
    "From a cheap and chippy chopper on a big black block!'''\n",
    "\n",
    "doc_1='''I’m a mother pheasant plucker, I pluck mother pheasants.\n",
    "I’m the most pleasant mother pheasant plucker to ever pluck a mother pheasant.\n",
    "I’m not the pheasant plucker I’m the pheasant plucker’s wife, I’ve been plucking Mother pheasants my whole pheasant plucking life.\n",
    "I’m not the pheasant plucker I’m the pheasant plucker’s mate, I’m only plucking Pheasants ’cause the pheasant plucker’s late.'''\n",
    "\n",
    "\n",
    "doc_2='''A tree-toad loved a she-toad\n",
    "Who lived up in a tree.\n",
    "He was a two-toed tree-toad,\n",
    "But a three-toed toad was she.\n",
    "The two-toed tree-toad tried to win\n",
    "The three-toed she-toad’s heart,\n",
    "For the https://www.mondly.com/blog/71-best-tongue-twisters-to-perfect-your-english-pronunciation/ two-toed tree-toad loved the ground\n",
    "That the three-toed tree-toad trod.\n",
    "But the two-toed tree-toad tried in vain;\n",
    "He couldn’t please her whim.\n",
    "From her tree-toad bower,\n",
    "With her three-toed power,\n",
    "The she-toad vetoed him.'''\n",
    "\n",
    "doc_3='''Mr. See owned a saw.\n",
    "And Mr. Soar owned a seesaw.\n",
    "Now, See’s6371 saw sawed Soar’s seesaw\n",
    "Before Soar saw See,\n",
    "Which made Soar sore.\n",
    "Had Soar seen See’s saw\n",
    "Before See sawed Soar’s seesaw,\n",
    "See’s saw would not have sawed\n",
    "Soar’s seesaw.\n",
    "So See’s saw sawed Soar’s seesaw.\n",
    "But it was sad to see Soar so sore\n",
    "just because See’s saw sawed\n",
    "Soar’s seesaw.'''\n",
    "\n",
    "doc_4='''Ned Nott was shot ! and Sam Shott was not.\n",
    "So it is better to be Shott than Nott.\n",
    "Some say Nott was not shot.\n",
    "But Shott @#$%^*)!^& says he shot Nott.\n",
    "Either the shot Shott shot at Nott was not shot,\n",
    "Or Nott was shot.\n",
    "If the shot #Shott shot shot Nott, Nott was shot.\n",
    "But if the sh&ot Shott shot shot Shott,\n",
    "Then Shott was* shot, not Nott.'''"
   ]
  },
  {
   "cell_type": "code",
   "execution_count": 3,
   "id": "bc829a36",
   "metadata": {
    "scrolled": true
   },
   "outputs": [
    {
     "data": {
      "text/html": [
       "<div>\n",
       "<style scoped>\n",
       "    .dataframe tbody tr th:only-of-type {\n",
       "        vertical-align: middle;\n",
       "    }\n",
       "\n",
       "    .dataframe tbody tr th {\n",
       "        vertical-align: top;\n",
       "    }\n",
       "\n",
       "    .dataframe thead th {\n",
       "        text-align: right;\n",
       "    }\n",
       "</style>\n",
       "<table border=\"1\" class=\"dataframe\">\n",
       "  <thead>\n",
       "    <tr style=\"text-align: right;\">\n",
       "      <th></th>\n",
       "      <th>col</th>\n",
       "    </tr>\n",
       "  </thead>\n",
       "  <tbody>\n",
       "    <tr>\n",
       "      <th>0</th>\n",
       "      <td>&lt;b&gt;To sit in solemn&lt;/b&gt; silence in a dull, dar...</td>\n",
       "    </tr>\n",
       "    <tr>\n",
       "      <th>1</th>\n",
       "      <td>I’m a mother pheasant plucker, I pluck mother ...</td>\n",
       "    </tr>\n",
       "    <tr>\n",
       "      <th>2</th>\n",
       "      <td>A tree-toad loved a she-toad\\nWho lived up in ...</td>\n",
       "    </tr>\n",
       "    <tr>\n",
       "      <th>3</th>\n",
       "      <td>Mr. See owned a saw.\\nAnd Mr. Soar owned a see...</td>\n",
       "    </tr>\n",
       "    <tr>\n",
       "      <th>4</th>\n",
       "      <td>Ned Nott was shot ! and Sam Shott was not.\\nSo...</td>\n",
       "    </tr>\n",
       "  </tbody>\n",
       "</table>\n",
       "</div>"
      ],
      "text/plain": [
       "                                                 col\n",
       "0  <b>To sit in solemn</b> silence in a dull, dar...\n",
       "1  I’m a mother pheasant plucker, I pluck mother ...\n",
       "2  A tree-toad loved a she-toad\\nWho lived up in ...\n",
       "3  Mr. See owned a saw.\\nAnd Mr. Soar owned a see...\n",
       "4  Ned Nott was shot ! and Sam Shott was not.\\nSo..."
      ]
     },
     "execution_count": 3,
     "metadata": {},
     "output_type": "execute_result"
    }
   ],
   "source": [
    "df_original=pd.DataFrame({'col':[doc_0,doc_1,doc_2,doc_3,doc_4]})\n",
    "df_original"
   ]
  },
  {
   "cell_type": "code",
   "execution_count": 4,
   "id": "2c62c3d5",
   "metadata": {},
   "outputs": [
    {
     "data": {
      "text/html": [
       "<div>\n",
       "<style scoped>\n",
       "    .dataframe tbody tr th:only-of-type {\n",
       "        vertical-align: middle;\n",
       "    }\n",
       "\n",
       "    .dataframe tbody tr th {\n",
       "        vertical-align: top;\n",
       "    }\n",
       "\n",
       "    .dataframe thead th {\n",
       "        text-align: right;\n",
       "    }\n",
       "</style>\n",
       "<table border=\"1\" class=\"dataframe\">\n",
       "  <thead>\n",
       "    <tr style=\"text-align: right;\">\n",
       "      <th></th>\n",
       "      <th>col</th>\n",
       "    </tr>\n",
       "  </thead>\n",
       "  <tbody>\n",
       "    <tr>\n",
       "      <th>0</th>\n",
       "      <td>&lt;b&gt;To sit in solemn&lt;/b&gt; silence in a dull, dar...</td>\n",
       "    </tr>\n",
       "    <tr>\n",
       "      <th>1</th>\n",
       "      <td>I’m a mother pheasant plucker, I pluck mother ...</td>\n",
       "    </tr>\n",
       "    <tr>\n",
       "      <th>2</th>\n",
       "      <td>A tree-toad loved a she-toad\\nWho lived up in ...</td>\n",
       "    </tr>\n",
       "    <tr>\n",
       "      <th>3</th>\n",
       "      <td>Mr. See owned a saw.\\nAnd Mr. Soar owned a see...</td>\n",
       "    </tr>\n",
       "    <tr>\n",
       "      <th>4</th>\n",
       "      <td>Ned Nott was shot ! and Sam Shott was not.\\nSo...</td>\n",
       "    </tr>\n",
       "  </tbody>\n",
       "</table>\n",
       "</div>"
      ],
      "text/plain": [
       "                                                 col\n",
       "0  <b>To sit in solemn</b> silence in a dull, dar...\n",
       "1  I’m a mother pheasant plucker, I pluck mother ...\n",
       "2  A tree-toad loved a she-toad\\nWho lived up in ...\n",
       "3  Mr. See owned a saw.\\nAnd Mr. Soar owned a see...\n",
       "4  Ned Nott was shot ! and Sam Shott was not.\\nSo..."
      ]
     },
     "execution_count": 4,
     "metadata": {},
     "output_type": "execute_result"
    }
   ],
   "source": [
    "df=df_original.copy()\n",
    "df"
   ]
  },
  {
   "cell_type": "code",
   "execution_count": 5,
   "id": "d206ab21",
   "metadata": {},
   "outputs": [],
   "source": [
    "def textpre(x,stem=False):\n",
    "    \n",
    "    #uniform\n",
    "    uniform=x.lower()\n",
    "    \n",
    "    #html tag remove\n",
    "    htmlrem=re.sub(r'<.*?>','',uniform)\n",
    "    \n",
    "    #url remove\n",
    "    url=re.sub(r'https?://\\S+|www\\.S\\+','',htmlrem)\n",
    "    \n",
    "    #new line handel\n",
    "    new=re.sub(r'\\n',' ',url)\n",
    "    \n",
    "    #removing special char\n",
    "    char=re.sub(r'[^a-zA-Z]',' ',new)\n",
    "    \n",
    "    #stopwords\n",
    "    s=char.casefold().split()\n",
    "    cleantok= [i for i in s if i not in stopwords.words('english')]\n",
    "    \n",
    "    #Stemming & Lemmatizatiion\n",
    "    if stem:\n",
    "        stemmer = SnowballStemmer('english')\n",
    "        a = [stemmer.stem(i) for i in cleantok]\n",
    "    else:\n",
    "        lemmatizer = WordNetLemmatizer()\n",
    "        a = [lemmatizer.lemmatize(i) for i in cleantok]\n",
    "    return ' '.join(a)"
   ]
  },
  {
   "cell_type": "code",
   "execution_count": 6,
   "id": "eadff2e2",
   "metadata": {},
   "outputs": [],
   "source": [
    "df['Text_cleaned_lemmatizer'] = df['col'].apply(textpre)"
   ]
  },
  {
   "cell_type": "code",
   "execution_count": 7,
   "id": "eb3de996",
   "metadata": {},
   "outputs": [],
   "source": [
    "df['Text_cleaned_stemmer'] = df['col'].apply(textpre,stem = True)"
   ]
  },
  {
   "cell_type": "code",
   "execution_count": 8,
   "id": "12903fc9",
   "metadata": {},
   "outputs": [
    {
     "data": {
      "text/html": [
       "<div>\n",
       "<style scoped>\n",
       "    .dataframe tbody tr th:only-of-type {\n",
       "        vertical-align: middle;\n",
       "    }\n",
       "\n",
       "    .dataframe tbody tr th {\n",
       "        vertical-align: top;\n",
       "    }\n",
       "\n",
       "    .dataframe thead th {\n",
       "        text-align: right;\n",
       "    }\n",
       "</style>\n",
       "<table border=\"1\" class=\"dataframe\">\n",
       "  <thead>\n",
       "    <tr style=\"text-align: right;\">\n",
       "      <th></th>\n",
       "      <th>col</th>\n",
       "      <th>Text_cleaned_lemmatizer</th>\n",
       "      <th>Text_cleaned_stemmer</th>\n",
       "    </tr>\n",
       "  </thead>\n",
       "  <tbody>\n",
       "    <tr>\n",
       "      <th>0</th>\n",
       "      <td>&lt;b&gt;To sit in solemn&lt;/b&gt; silence in a dull, dar...</td>\n",
       "      <td>sit solemn silence dull dark dock pestilential...</td>\n",
       "      <td>sit solemn silenc dull dark dock pestilenti pr...</td>\n",
       "    </tr>\n",
       "    <tr>\n",
       "      <th>1</th>\n",
       "      <td>I’m a mother pheasant plucker, I pluck mother ...</td>\n",
       "      <td>mother pheasant plucker pluck mother pheasant ...</td>\n",
       "      <td>mother pheasant plucker pluck mother pheasant ...</td>\n",
       "    </tr>\n",
       "    <tr>\n",
       "      <th>2</th>\n",
       "      <td>A tree-toad loved a she-toad\\nWho lived up in ...</td>\n",
       "      <td>tree toad loved toad lived tree two toed tree ...</td>\n",
       "      <td>tree toad love toad live tree two to tree toad...</td>\n",
       "    </tr>\n",
       "    <tr>\n",
       "      <th>3</th>\n",
       "      <td>Mr. See owned a saw.\\nAnd Mr. Soar owned a see...</td>\n",
       "      <td>mr see owned saw mr soar owned seesaw see saw ...</td>\n",
       "      <td>mr see own saw mr soar own seesaw see saw saw ...</td>\n",
       "    </tr>\n",
       "    <tr>\n",
       "      <th>4</th>\n",
       "      <td>Ned Nott was shot ! and Sam Shott was not.\\nSo...</td>\n",
       "      <td>ned nott shot sam shott better shott nott say ...</td>\n",
       "      <td>ned nott shot sam shott better shott nott say ...</td>\n",
       "    </tr>\n",
       "  </tbody>\n",
       "</table>\n",
       "</div>"
      ],
      "text/plain": [
       "                                                 col  \\\n",
       "0  <b>To sit in solemn</b> silence in a dull, dar...   \n",
       "1  I’m a mother pheasant plucker, I pluck mother ...   \n",
       "2  A tree-toad loved a she-toad\\nWho lived up in ...   \n",
       "3  Mr. See owned a saw.\\nAnd Mr. Soar owned a see...   \n",
       "4  Ned Nott was shot ! and Sam Shott was not.\\nSo...   \n",
       "\n",
       "                             Text_cleaned_lemmatizer  \\\n",
       "0  sit solemn silence dull dark dock pestilential...   \n",
       "1  mother pheasant plucker pluck mother pheasant ...   \n",
       "2  tree toad loved toad lived tree two toed tree ...   \n",
       "3  mr see owned saw mr soar owned seesaw see saw ...   \n",
       "4  ned nott shot sam shott better shott nott say ...   \n",
       "\n",
       "                                Text_cleaned_stemmer  \n",
       "0  sit solemn silenc dull dark dock pestilenti pr...  \n",
       "1  mother pheasant plucker pluck mother pheasant ...  \n",
       "2  tree toad love toad live tree two to tree toad...  \n",
       "3  mr see own saw mr soar own seesaw see saw saw ...  \n",
       "4  ned nott shot sam shott better shott nott say ...  "
      ]
     },
     "execution_count": 8,
     "metadata": {},
     "output_type": "execute_result"
    }
   ],
   "source": [
    "df"
   ]
  },
  {
   "cell_type": "markdown",
   "id": "0c04b258",
   "metadata": {},
   "source": [
    "# uniform"
   ]
  },
  {
   "cell_type": "code",
   "execution_count": 9,
   "id": "af272147",
   "metadata": {},
   "outputs": [
    {
     "data": {
      "text/plain": [
       "0    <b>to sit in solemn</b> silence in a dull, dar...\n",
       "1    i’m a mother pheasant plucker, i pluck mother ...\n",
       "2    a tree-toad loved a she-toad\\nwho lived up in ...\n",
       "3    mr. see owned a saw.\\nand mr. soar owned a see...\n",
       "4    ned nott was shot ! and sam shott was not.\\nso...\n",
       "Name: col, dtype: object"
      ]
     },
     "execution_count": 9,
     "metadata": {},
     "output_type": "execute_result"
    }
   ],
   "source": [
    "df['col']=df['col'].str.lower()\n",
    "df['col']"
   ]
  },
  {
   "cell_type": "markdown",
   "id": "1d20aee5",
   "metadata": {},
   "source": [
    "# html tag"
   ]
  },
  {
   "cell_type": "code",
   "execution_count": 10,
   "id": "83a2d301",
   "metadata": {},
   "outputs": [
    {
     "data": {
      "text/plain": [
       "'Sai situ '"
      ]
     },
     "execution_count": 10,
     "metadata": {},
     "output_type": "execute_result"
    }
   ],
   "source": [
    "x='<h>Sai situ </h>'\n",
    "re.sub(r'<.*?>','',x)"
   ]
  },
  {
   "cell_type": "code",
   "execution_count": 11,
   "id": "036d66ca",
   "metadata": {},
   "outputs": [],
   "source": [
    "def htmltag(x):\n",
    "    return re.sub(r'<.*?>','',x)"
   ]
  },
  {
   "cell_type": "code",
   "execution_count": 12,
   "id": "a74923f5",
   "metadata": {},
   "outputs": [
    {
     "data": {
      "text/plain": [
       "0    to sit in solemn silence in a dull, dark dock,...\n",
       "1    i’m a mother pheasant plucker, i pluck mother ...\n",
       "2    a tree-toad loved a she-toad\\nwho lived up in ...\n",
       "3    mr. see owned a saw.\\nand mr. soar owned a see...\n",
       "4    ned nott was shot ! and sam shott was not.\\nso...\n",
       "Name: col, dtype: object"
      ]
     },
     "execution_count": 12,
     "metadata": {},
     "output_type": "execute_result"
    }
   ],
   "source": [
    "df['col']=df['col'].apply(htmltag)\n",
    "df['col']"
   ]
  },
  {
   "cell_type": "markdown",
   "id": "1fb84520",
   "metadata": {},
   "source": [
    "# url remover"
   ]
  },
  {
   "cell_type": "code",
   "execution_count": 13,
   "id": "48e8fed5",
   "metadata": {},
   "outputs": [],
   "source": [
    "def urlre(x):\n",
    "    return re.sub(r'https?://\\S+|www\\.S\\+','',x)"
   ]
  },
  {
   "cell_type": "code",
   "execution_count": 14,
   "id": "1f1f0192",
   "metadata": {},
   "outputs": [
    {
     "data": {
      "text/plain": [
       "'he three-toed she-toad’s heart,\\nFor the  two-toed tree-toad loved the ground\\nThat the three-'"
      ]
     },
     "execution_count": 14,
     "metadata": {},
     "output_type": "execute_result"
    }
   ],
   "source": [
    "x='''he three-toed she-toad’s heart,\n",
    "For the https://www.mondly.com/blog/71-best-tongue-twisters-to-perfect-your-english-pronunciation/ two-toed tree-toad loved the ground\n",
    "That the three-'''\n",
    "urlre(x)"
   ]
  },
  {
   "cell_type": "markdown",
   "id": "4a64042c",
   "metadata": {},
   "source": [
    "# new line handel"
   ]
  },
  {
   "cell_type": "code",
   "execution_count": 15,
   "id": "5f83b688",
   "metadata": {},
   "outputs": [
    {
     "data": {
      "text/plain": [
       "'he three-toed she-toad’s heart,For the  two-toed tree-toad loved the groundThat the three-'"
      ]
     },
     "execution_count": 15,
     "metadata": {},
     "output_type": "execute_result"
    }
   ],
   "source": [
    "x='he three-toed she-toad’s heart,\\nFor the  two-toed tree-toad loved the ground\\nThat the three-'\n",
    "re.sub(r'\\n','',x)"
   ]
  },
  {
   "cell_type": "markdown",
   "id": "05505807",
   "metadata": {},
   "source": [
    "# removing special char"
   ]
  },
  {
   "cell_type": "code",
   "execution_count": 16,
   "id": "e1d86024",
   "metadata": {},
   "outputs": [
    {
     "data": {
      "text/plain": [
       "'he three toed she  toad s  heart For  the  t wo toed  tree  toad   loved  the groundT hat the three '"
      ]
     },
     "execution_count": 16,
     "metadata": {},
     "output_type": "execute_result"
    }
   ],
   "source": [
    "x='he three-toed she-%toad’s& heart,For @the  t#wo-toed 1tree-!toad74 loved _the groundT+hat the three-'\n",
    "re.sub(r'[^a-zA-Z]',' ',x)"
   ]
  },
  {
   "cell_type": "markdown",
   "id": "3c8c4262",
   "metadata": {},
   "source": [
    "# stopwords"
   ]
  },
  {
   "cell_type": "code",
   "execution_count": 17,
   "id": "93578e24",
   "metadata": {},
   "outputs": [
    {
     "data": {
      "text/plain": [
       "['he',\n",
       " 'three',\n",
       " 'toed',\n",
       " 'she',\n",
       " 'toad',\n",
       " 's',\n",
       " 'heart',\n",
       " 'for',\n",
       " 'the',\n",
       " 't',\n",
       " 'wo',\n",
       " 'toed',\n",
       " 'tree',\n",
       " 'toad',\n",
       " 'loved',\n",
       " 'the',\n",
       " 'groundt',\n",
       " 'hat',\n",
       " 'the',\n",
       " 'three']"
      ]
     },
     "execution_count": 17,
     "metadata": {},
     "output_type": "execute_result"
    }
   ],
   "source": [
    "x='he three toed she  toad s  heart For  the  t wo toed  tree  toad   loved  the groundT hat the three '.casefold().split()\n",
    "x"
   ]
  },
  {
   "cell_type": "code",
   "execution_count": 18,
   "id": "d46093ef",
   "metadata": {},
   "outputs": [
    {
     "data": {
      "text/plain": [
       "['three',\n",
       " 'toed',\n",
       " 'toad',\n",
       " 'heart',\n",
       " 'wo',\n",
       " 'toed',\n",
       " 'tree',\n",
       " 'toad',\n",
       " 'loved',\n",
       " 'groundt',\n",
       " 'hat',\n",
       " 'three']"
      ]
     },
     "execution_count": 18,
     "metadata": {},
     "output_type": "execute_result"
    }
   ],
   "source": [
    "z= [i for i in x if i not in stopwords.words('english')]\n",
    "z"
   ]
  },
  {
   "cell_type": "code",
   "execution_count": 19,
   "id": "9c8d6ab7",
   "metadata": {},
   "outputs": [
    {
     "data": {
      "text/plain": [
       "['three',\n",
       " 'toed',\n",
       " 'toad',\n",
       " 'heart',\n",
       " 'wo',\n",
       " 'toed',\n",
       " 'tree',\n",
       " 'toad',\n",
       " 'loved',\n",
       " 'groundt',\n",
       " 'hat',\n",
       " 'three']"
      ]
     },
     "execution_count": 19,
     "metadata": {},
     "output_type": "execute_result"
    }
   ],
   "source": [
    "z"
   ]
  },
  {
   "cell_type": "code",
   "execution_count": 20,
   "id": "fc1c9485",
   "metadata": {},
   "outputs": [],
   "source": [
    "def stopword(x):\n",
    "    z=[]\n",
    "    for i in x.casefold().split():\n",
    "        if i not in stopwords.words('english'):\n",
    "            z.append(i)\n",
    "    return ' '.join(z)"
   ]
  },
  {
   "cell_type": "code",
   "execution_count": 21,
   "id": "5655cc76",
   "metadata": {},
   "outputs": [
    {
     "data": {
      "text/plain": [
       "0    sit solemn silence dull, dark dock, pestilenti...\n",
       "1    i’m mother pheasant plucker, pluck mother phea...\n",
       "2    tree-toad loved she-toad lived tree. two-toed ...\n",
       "3    mr. see owned saw. mr. soar owned seesaw. now,...\n",
       "4    ned nott shot ! sam shott not. better shott no...\n",
       "Name: col, dtype: object"
      ]
     },
     "execution_count": 21,
     "metadata": {},
     "output_type": "execute_result"
    }
   ],
   "source": [
    "df['col']=df['col'].apply(stopword)\n",
    "df['col']"
   ]
  },
  {
   "cell_type": "code",
   "execution_count": null,
   "id": "78b877ae",
   "metadata": {},
   "outputs": [],
   "source": []
  }
 ],
 "metadata": {
  "kernelspec": {
   "display_name": "Python 3 (ipykernel)",
   "language": "python",
   "name": "python3"
  },
  "language_info": {
   "codemirror_mode": {
    "name": "ipython",
    "version": 3
   },
   "file_extension": ".py",
   "mimetype": "text/x-python",
   "name": "python",
   "nbconvert_exporter": "python",
   "pygments_lexer": "ipython3",
   "version": "3.10.9"
  }
 },
 "nbformat": 4,
 "nbformat_minor": 5
}
